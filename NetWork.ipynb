{
 "cells": [
  {
   "cell_type": "markdown",
   "source": [
    "# import libraries"
   ],
   "metadata": {
    "collapsed": false
   }
  },
  {
   "cell_type": "code",
   "execution_count": 3,
   "outputs": [],
   "source": [
    "import torch\n",
    "import torch_geometric\n",
    "from torch_geometric.nn import TopKPooling, GCNConv\n",
    "from torch_geometric.nn import global_mean_pool as gap, global_max_pool as gmp\n",
    "import torch.nn as nn\n",
    "import torch.nn.functional as F\n",
    "from torch_sparse import spspmm"
   ],
   "metadata": {
    "collapsed": false
   }
  },
  {
   "cell_type": "markdown",
   "source": [
    "# Model"
   ],
   "metadata": {
    "collapsed": false
   }
  },
  {
   "cell_type": "code",
   "execution_count": 4,
   "outputs": [],
   "source": [
    "from torch_geometric.utils import add_self_loops, sort_edge_index, remove_self_loops\n",
    "\n",
    "\n",
    "class GNN(torch.nn.Module):\n",
    "     def __init__(self, node_feature_dim, ratio, num_class, num_com=8, num_ROI=200):\n",
    "        '''\n",
    "\n",
    "        :param node_feature_dim: (int) node feature dimension\n",
    "        :param ratio: (float) pooling ratio in (0,1)\n",
    "        :param num_class: (int)  number of classes\n",
    "        :param num_com: (int) number of communities\n",
    "        :param num_ROI: (int) number of ROIs\n",
    "        '''\n",
    "        super(GNN, self).__init__()\n",
    "\n",
    "        self.node_feature_dim = node_feature_dim\n",
    "        self.dim1 = 32\n",
    "        self.dim2 = 32\n",
    "        self.dim3 = 512\n",
    "        self.dim4 = 256\n",
    "        self.dim5 = 8\n",
    "        self.num_com = num_com\n",
    "        self.num_ROT = num_ROI\n",
    "\n",
    "\n",
    "        self.n1 = nn.Sequential(nn.Linear(self.num_ROI, self.num_com, bias=False), nn.ReLU(), nn.Linear(self.num_com, self.dim1 * self.indim))\n",
    "        self.conv1 = GCNConv(self.indim, self.dim1, normalize=False)\n",
    "        self.pool1 = TopKPooling(self.dim1, ratio=ratio, multiplier=1, nonlinearity=torch.sigmoid)\n",
    "        self.n2 = nn.Sequential(nn.Linear(self.num_ROI, self.num_com, bias=False), nn.ReLU(), nn.Linear(self.num_com, self.dim2 * self.dim1))\n",
    "        self.conv2 = GCNConv(self.dim1, self.dim2, normalize=False)\n",
    "        self.pool2 = TopKPooling(self.dim2, ratio=ratio, multiplier=1, nonlinearity=torch.sigmoid)\n",
    "\n",
    "        self.fc1 = torch.nn.Linear((self.dim1+self.dim2)*2, self.dim2)\n",
    "        self.bn1 = torch.nn.BatchNorm1d(self.dim2)\n",
    "        self.fc2 = torch.nn.Linear(self.dim2, self.dim3)\n",
    "        self.bn2 = torch.nn.BatchNorm1d(self.dim3)\n",
    "        self.fc3 = torch.nn.Linear(self.dim3, num_class)\n",
    "\n",
    "     def forward(self, x, edge_index, batch, edge_attr, pos):\n",
    "\n",
    "        x = self.conv1(x, edge_index, edge_attr, pos)\n",
    "        x, edge_index, edge_attr, batch, perm, score1 = self.pool1(x, edge_index, edge_attr, batch)\n",
    "\n",
    "        pos = pos[perm]\n",
    "        x1 = torch.cat([gmp(x, batch), gap(x, batch)], dim=1)\n",
    "\n",
    "        edge_attr = edge_attr.squeeze()\n",
    "        edge_index, edge_attr = self.augment_adj(edge_index, edge_attr, x.size(0))\n",
    "\n",
    "        x = self.conv2(x, edge_index, edge_attr, pos)\n",
    "        x, edge_index, edge_attr, batch, perm, score2 = self.pool2(x, edge_index,edge_attr, batch)\n",
    "\n",
    "        x2 = torch.cat([gmp(x, batch), gap(x, batch)], dim=1)\n",
    "\n",
    "        x = torch.cat([x1,x2], dim=1)\n",
    "        x = self.bn1(F.relu(self.fc1(x)))\n",
    "        x = F.dropout(x, p=0.5, training=self.training)\n",
    "        x = self.bn2(F.relu(self.fc2(x)))\n",
    "        x= F.dropout(x, p=0.5, training=self.training)\n",
    "        x = F.log_softmax(self.fc3(x), dim=-1)\n",
    "\n",
    "        return x,self.pool1.weight,self.pool2.weight, torch.sigmoid(score1).view(x.size(0),-1), torch.sigmoid(score2).view(x.size(0),-1)\n",
    "     def augment_adj(self, edge_index, edge_weight, num_nodes):\n",
    "        edge_index, edge_weight = add_self_loops(edge_index, edge_weight,\n",
    "                                                 num_nodes=num_nodes)\n",
    "        edge_index, edge_weight = sort_edge_index(edge_index, edge_weight,\n",
    "                                                  num_nodes)\n",
    "        edge_index, edge_weight = spspmm(edge_index, edge_weight, edge_index,\n",
    "                                         edge_weight, num_nodes, num_nodes,\n",
    "                                         num_nodes)\n",
    "        edge_index, edge_weight = remove_self_loops(edge_index, edge_weight)\n",
    "        return edge_index, edge_weight\n"
   ],
   "metadata": {
    "collapsed": false
   }
  },
  {
   "cell_type": "code",
   "execution_count": null,
   "outputs": [],
   "source": [],
   "metadata": {
    "collapsed": false
   }
  }
 ],
 "metadata": {
  "kernelspec": {
   "display_name": "Python 3",
   "language": "python",
   "name": "python3"
  },
  "language_info": {
   "codemirror_mode": {
    "name": "ipython",
    "version": 2
   },
   "file_extension": ".py",
   "mimetype": "text/x-python",
   "name": "python",
   "nbconvert_exporter": "python",
   "pygments_lexer": "ipython2",
   "version": "2.7.6"
  }
 },
 "nbformat": 4,
 "nbformat_minor": 0
}
