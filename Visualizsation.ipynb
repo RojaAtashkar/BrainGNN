{
 "cells": [
  {
   "cell_type": "markdown",
   "source": [
    "# Visualise what is going on!"
   ],
   "metadata": {
    "collapsed": false
   }
  },
  {
   "cell_type": "code",
   "execution_count": 4,
   "outputs": [],
   "source": [
    "import torch\n",
    "import torch.nn.functional as F\n",
    "import torch.nn as nn\n",
    "from torch_geometric.nn import TopKPooling\n",
    "from torch_geometric.nn import global_mean_pool as gap, global_max_pool as gmp\n",
    "from torch_geometric.utils import (add_self_loops, sort_edge_index,\n",
    "                                   remove_self_loops)\n",
    "from torch_sparse import spspmm\n",
    "from net.braingraphconv import MyNNConv\n",
    "import os\n",
    "import numpy as np\n",
    "import time\n",
    "import copy\n",
    "import torch\n",
    "import torch.nn.functional as F\n",
    "from torch.optim import lr_scheduler\n",
    "from tensorboardX import SummaryWriter\n",
    "from imports_data.ABIDEDataset import ABIDEDataset\n",
    "from torch_geometric.data import DataLoader\n",
    "from net.braingnn import Network\n",
    "from imports_data.utils import train_val_test_split\n",
    "from sklearn.metrics import classification_report, confusion_matrix"
   ],
   "metadata": {
    "collapsed": false
   }
  },
  {
   "cell_type": "markdown",
   "source": [
    "The network we have:"
   ],
   "metadata": {
    "collapsed": false
   }
  },
  {
   "cell_type": "code",
   "execution_count": 5,
   "outputs": [],
   "source": [
    "class Network(torch.nn.Module):\n",
    "    def __init__(self, indim, ratio, nclass, k=8, R=200):\n",
    "        '''\n",
    "\n",
    "        :param indim: (int) node feature dimension\n",
    "        :param ratio: (float) pooling ratio in (0,1)\n",
    "        :param nclass: (int)  number of classes\n",
    "        :param k: (int) number of communities\n",
    "        :param R: (int) number of ROIs\n",
    "        '''\n",
    "        super(Network, self).__init__()\n",
    "\n",
    "        self.indim = indim\n",
    "        self.dim1 = 32\n",
    "        self.dim2 = 32\n",
    "        self.dim3 = 512\n",
    "        self.dim4 = 256\n",
    "        self.dim5 = 8\n",
    "        self.k = k\n",
    "        self.R = R\n",
    "\n",
    "        self.n1 = nn.Sequential(nn.Linear(self.R, self.k, bias=False), nn.ReLU(), nn.Linear(self.k, self.dim1 * self.indim))\n",
    "        self.conv1 = MyNNConv(self.indim, self.dim1, self.n1, normalize=False)\n",
    "        self.pool1 = TopKPooling(self.dim1, ratio=ratio, multiplier=1, nonlinearity=torch.sigmoid)\n",
    "        self.n2 = nn.Sequential(nn.Linear(self.R, self.k, bias=False), nn.ReLU(), nn.Linear(self.k, self.dim2 * self.dim1))\n",
    "        self.conv2 = MyNNConv(self.dim1, self.dim2, self.n2, normalize=False)\n",
    "        self.pool2 = TopKPooling(self.dim2, ratio=ratio, multiplier=1, nonlinearity=torch.sigmoid)\n",
    "\n",
    "\n",
    "        self.fc1 = torch.nn.Linear((self.dim1+self.dim2)*2, self.dim2)\n",
    "        self.bn1 = torch.nn.BatchNorm1d(self.dim2)\n",
    "        self.fc2 = torch.nn.Linear(self.dim2, self.dim3)\n",
    "        self.bn2 = torch.nn.BatchNorm1d(self.dim3)\n",
    "        self.fc3 = torch.nn.Linear(self.dim3, nclass)\n",
    "\n",
    "\n",
    "\n",
    "\n",
    "    def forward(self, x, edge_index, batch, edge_attr, pos):\n",
    "\n",
    "        x = self.conv1(x, edge_index, edge_attr, pos)\n",
    "        x, edge_index, edge_attr, batch, perm, score1 = self.pool1(x, edge_index, edge_attr, batch)\n",
    "\n",
    "        pos = pos[perm]\n",
    "        x1 = torch.cat([gmp(x, batch), gap(x, batch)], dim=1)\n",
    "\n",
    "        edge_attr = edge_attr.squeeze()\n",
    "        edge_index, edge_attr = self.augment_adj(edge_index, edge_attr, x.size(0))\n",
    "\n",
    "        x = self.conv2(x, edge_index, edge_attr, pos)\n",
    "        x, edge_index, edge_attr, batch, perm, score2 = self.pool2(x, edge_index,edge_attr, batch)\n",
    "\n",
    "        x2 = torch.cat([gmp(x, batch), gap(x, batch)], dim=1)\n",
    "\n",
    "        x = torch.cat([x1,x2], dim=1)\n",
    "        x = self.bn1(F.relu(self.fc1(x)))\n",
    "        x = F.dropout(x, p=0.5, training=self.training)\n",
    "        x = self.bn2(F.relu(self.fc2(x)))\n",
    "        x= F.dropout(x, p=0.5, training=self.training)\n",
    "        x = F.log_softmax(self.fc3(x), dim=-1)\n",
    "\n",
    "        return x,self.pool1.weight,self.pool2.weight, torch.sigmoid(score1).view(x.size(0),-1), torch.sigmoid(score2).view(x.size(0),-1)\n",
    "\n",
    "    def augment_adj(self, edge_index, edge_weight, num_nodes):\n",
    "        edge_index, edge_weight = add_self_loops(edge_index, edge_weight,\n",
    "                                                 num_nodes=num_nodes)\n",
    "        edge_index, edge_weight = sort_edge_index(edge_index, edge_weight,\n",
    "                                                  num_nodes)\n",
    "        edge_index, edge_weight = spspmm(edge_index, edge_weight, edge_index,\n",
    "                                         edge_weight, num_nodes, num_nodes,\n",
    "                                         num_nodes)\n",
    "        edge_index, edge_weight = remove_self_loops(edge_index, edge_weight)\n",
    "        return edge_index, edge_weight\n",
    "\n"
   ],
   "metadata": {
    "collapsed": false
   }
  },
  {
   "cell_type": "code",
   "execution_count": 6,
   "outputs": [],
   "source": [
    "batchSize = 100\n",
    "# feature dim\n",
    "indim = 200\n",
    "#num of rio\n",
    "nroi = 200\n",
    "# num of classes\n",
    "nclass = 2\n",
    "ratio = 0.5"
   ],
   "metadata": {
    "collapsed": false
   }
  },
  {
   "cell_type": "markdown",
   "source": [
    "load the dataset :"
   ],
   "metadata": {
    "collapsed": false
   }
  },
  {
   "cell_type": "code",
   "execution_count": 7,
   "outputs": [],
   "source": [
    "# root directory of the dataset\n",
    "name = 'ABIDE'\n",
    "dataroot = 'D:\\EE\\ETH\\project\\BrainGNN\\data\\ABIDE_pcp\\cpac\\\\filt_noglobal'"
   ],
   "metadata": {
    "collapsed": false
   }
  },
  {
   "cell_type": "code",
   "execution_count": 8,
   "outputs": [
    {
     "name": "stdout",
     "output_type": "stream",
     "text": [
      "tensor([1, 1, 1,  ..., 1, 1, 1])\n"
     ]
    },
    {
     "name": "stderr",
     "output_type": "stream",
     "text": [
      "C:\\Users\\MehrSystem\\AppData\\Local\\Programs\\Python\\Python310\\lib\\site-packages\\torch_geometric\\data\\in_memory_dataset.py:157: UserWarning: It is not recommended to directly access the internal storage format `data` of an 'InMemoryDataset'. If you are absolutely certain what you are doing, access the internal storage via `InMemoryDataset._data` instead to suppress this warning. Alternatively, you can access stacked individual attributes of every graph via `dataset.{attr_name}`.\n",
      "  warnings.warn(msg)\n",
      "C:\\Users\\MehrSystem\\AppData\\Local\\Programs\\Python\\Python310\\lib\\site-packages\\torch_geometric\\deprecation.py:22: UserWarning: 'data.DataLoader' is deprecated, use 'loader.DataLoader' instead\n",
      "  warnings.warn(out)\n"
     ]
    }
   ],
   "source": [
    "\n",
    "dataset = ABIDEDataset(dataroot, name)\n",
    "dataset.data.y = dataset.data.y.squeeze()\n",
    "print(dataset.data.y)\n",
    "dataset.data.x[dataset.data.x == float('inf')] = 0\n",
    "data_loader = DataLoader(dataset, batch_size=batchSize, shuffle=True)"
   ],
   "metadata": {
    "collapsed": false
   }
  },
  {
   "cell_type": "markdown",
   "source": [
    "load the model:"
   ],
   "metadata": {
    "collapsed": false
   }
  },
  {
   "cell_type": "code",
   "execution_count": 10,
   "outputs": [
    {
     "data": {
      "text/plain": "Network(\n  (n1): Sequential(\n    (0): Linear(in_features=200, out_features=8, bias=False)\n    (1): ReLU()\n    (2): Linear(in_features=8, out_features=6400, bias=True)\n  )\n  (conv1): MyNNConv(200, 32)\n  (pool1): TopKPooling(32, ratio=0.5, multiplier=1)\n  (n2): Sequential(\n    (0): Linear(in_features=200, out_features=8, bias=False)\n    (1): ReLU()\n    (2): Linear(in_features=8, out_features=1024, bias=True)\n  )\n  (conv2): MyNNConv(32, 32)\n  (pool2): TopKPooling(32, ratio=0.5, multiplier=1)\n  (fc1): Linear(in_features=128, out_features=32, bias=True)\n  (bn1): BatchNorm1d(32, eps=1e-05, momentum=0.1, affine=True, track_running_stats=True)\n  (fc2): Linear(in_features=32, out_features=512, bias=True)\n  (bn2): BatchNorm1d(512, eps=1e-05, momentum=0.1, affine=True, track_running_stats=True)\n  (fc3): Linear(in_features=512, out_features=2, bias=True)\n)"
     },
     "execution_count": 10,
     "metadata": {},
     "output_type": "execute_result"
    }
   ],
   "source": [
    "model = Network(indim, ratio, nclass)\n",
    "model.load_state_dict(torch.load(\"D:\\EE\\ETH\\project\\BrainGNN\\Model\\\\0.pth\"))\n",
    "model.eval()"
   ],
   "metadata": {
    "collapsed": false
   }
  },
  {
   "cell_type": "code",
   "execution_count": null,
   "outputs": [],
   "source": [],
   "metadata": {
    "collapsed": false
   }
  }
 ],
 "metadata": {
  "kernelspec": {
   "display_name": "Python 3",
   "language": "python",
   "name": "python3"
  },
  "language_info": {
   "codemirror_mode": {
    "name": "ipython",
    "version": 2
   },
   "file_extension": ".py",
   "mimetype": "text/x-python",
   "name": "python",
   "nbconvert_exporter": "python",
   "pygments_lexer": "ipython2",
   "version": "2.7.6"
  }
 },
 "nbformat": 4,
 "nbformat_minor": 0
}
